{
 "cells": [
  {
   "cell_type": "code",
   "execution_count": 179,
   "id": "01c8efc3",
   "metadata": {},
   "outputs": [],
   "source": [
    "from langchain.tools import tool\n",
    "from langchain_core.tools import InjectedToolArg\n",
    "from langchain_mistralai import ChatMistralAI\n",
    "from langchain_core.messages import HumanMessage\n",
    "from langchain_openai import OpenAI\n",
    "from typing import Annotated\n",
    "import requests\n",
    "from dotenv import load_dotenv\n",
    "load_dotenv()\n",
    "import os\n"
   ]
  },
  {
   "cell_type": "code",
   "execution_count": 252,
   "id": "b3b94c8a",
   "metadata": {},
   "outputs": [],
   "source": [
    "@tool\n",
    "def get_conversion_factor(base_currency: str, target_currency: str) -> str:\n",
    "  \"\"\"\n",
    "  This function fetches the currency conversion factor between a given base currency and a target currency\n",
    "  \"\"\"\n",
    "  url = f'https://v6.exchangerate-api.com/v6/c754eab14ffab33112e380ca/pair/{base_currency}/{target_currency}'\n",
    "\n",
    "  response = requests.get(url)\n",
    "\n",
    "  return response.json()\n",
    "\n",
    "@tool\n",
    "def convert(base_currency_value: str, conversion_rate: Annotated[str, InjectedToolArg]) -> str:\n",
    "  \"\"\"\n",
    "  given a currency conversion rate this function calculates the target currency value from a given base currency value\n",
    "  \"\"\"\n",
    "\n",
    "  return str(float(base_currency_value) * float(conversion_rate))\n"
   ]
  },
  {
   "cell_type": "code",
   "execution_count": 248,
   "id": "314b8be3",
   "metadata": {},
   "outputs": [
    {
     "data": {
      "text/plain": [
       "<bound method Runnable.as_tool of RunnableBinding(bound=ChatMistralAI(client=<httpx.Client object at 0x00000276D8FA8950>, async_client=<httpx.AsyncClient object at 0x00000276D8FAA630>, mistral_api_key=SecretStr('**********'), endpoint='https://api.mistral.ai/v1', model='mistral-large-latest', model_kwargs={}), kwargs={'tools': [{'type': 'function', 'function': {'name': 'get_conversion_factor', 'description': 'This function fetches the currency conversion factor between a given base currency and a target currency', 'parameters': {'properties': {'base_currency': {'type': 'string'}, 'target_currency': {'type': 'string'}}, 'required': ['base_currency', 'target_currency'], 'type': 'object'}}}, {'type': 'function', 'function': {'name': 'convert', 'description': 'given a currency conversion rate this function calculates the target currency value from a given base currency value', 'parameters': {'properties': {'base_currency_value': {'type': 'string'}}, 'required': ['base_currency_value'], 'type': 'object'}}}]}, config={}, config_factories=[])>"
      ]
     },
     "execution_count": 248,
     "metadata": {},
     "output_type": "execute_result"
    }
   ],
   "source": [
    "llm=ChatMistralAI(api_key=os.getenv('Mistral'),model='mistral-large-latest')\n",
    "llm_tool=llm.bind_tools(tools=[get_conversion_factor,convert])\n",
    "llm_tool.as_tool\n"
   ]
  },
  {
   "cell_type": "code",
   "execution_count": 268,
   "id": "a970486e",
   "metadata": {},
   "outputs": [],
   "source": [
    "messages = [HumanMessage('get the conversion rate from 100 inr to usd')]"
   ]
  },
  {
   "cell_type": "code",
   "execution_count": 269,
   "id": "c1c1aeac",
   "metadata": {},
   "outputs": [],
   "source": [
    "ai_message=llm_tool.invoke(messages)\n",
    "messages.append(ai_message)\n"
   ]
  },
  {
   "cell_type": "code",
   "execution_count": 270,
   "id": "23050f51",
   "metadata": {},
   "outputs": [
    {
     "name": "stdout",
     "output_type": "stream",
     "text": [
      "[HumanMessage(content='get the conversion rate from 100 inr to usd', additional_kwargs={}, response_metadata={}), AIMessage(content='', additional_kwargs={'tool_calls': [{'id': '7QE3dzo0X', 'function': {'name': 'get_conversion_factor', 'arguments': '{\"base_currency\": \"inr\", \"target_currency\": \"usd\"}'}, 'index': 0}]}, response_metadata={'token_usage': {'prompt_tokens': 190, 'total_tokens': 227, 'completion_tokens': 37}, 'model_name': 'mistral-large-latest', 'model': 'mistral-large-latest', 'finish_reason': 'tool_calls'}, id='run--5783a276-b042-48a2-bec4-21802f7e0fee-0', tool_calls=[{'name': 'get_conversion_factor', 'args': {'base_currency': 'inr', 'target_currency': 'usd'}, 'id': '7QE3dzo0X', 'type': 'tool_call'}], usage_metadata={'input_tokens': 190, 'output_tokens': 37, 'total_tokens': 227})]\n"
     ]
    }
   ],
   "source": [
    "print(messages)"
   ]
  },
  {
   "cell_type": "code",
   "execution_count": 271,
   "id": "cf46f729",
   "metadata": {},
   "outputs": [
    {
     "data": {
      "text/plain": [
       "[{'name': 'get_conversion_factor',\n",
       "  'args': {'base_currency': 'inr', 'target_currency': 'usd'},\n",
       "  'id': '7QE3dzo0X',\n",
       "  'type': 'tool_call'}]"
      ]
     },
     "execution_count": 271,
     "metadata": {},
     "output_type": "execute_result"
    }
   ],
   "source": [
    "ai_message.tool_calls"
   ]
  },
  {
   "cell_type": "code",
   "execution_count": 272,
   "id": "1081d77d",
   "metadata": {},
   "outputs": [],
   "source": [
    "import json\n",
    "\n",
    "for tool_call in ai_message.tool_calls:\n",
    "  # execute the 1st tool and get the value of conversion rate\n",
    "  if tool_call['name'] == 'get_conversion_factor':\n",
    "    tool_message1 = get_conversion_factor.invoke(tool_call)\n",
    "    # fetch this conversion rate\n",
    "    conversion_rate = json.loads(tool_message1.content)['conversion_rate']\n",
    "    # append this tool message to messages list\n",
    "    messages.append(tool_message1)\n",
    "  # execute the 2nd tool using the conversion rate from tool 1\n",
    "second_tool_message = convert.invoke({'base_currency_value': '1000', 'conversion_rate': str(conversion_rate)})\n",
    "messages.append(second_tool_message)\n",
    "\n"
   ]
  },
  {
   "cell_type": "code",
   "execution_count": 273,
   "id": "9bde6bf4",
   "metadata": {},
   "outputs": [
    {
     "data": {
      "text/plain": [
       "[HumanMessage(content='get the conversion rate from 100 inr to usd', additional_kwargs={}, response_metadata={}),\n",
       " AIMessage(content='', additional_kwargs={'tool_calls': [{'id': '7QE3dzo0X', 'function': {'name': 'get_conversion_factor', 'arguments': '{\"base_currency\": \"inr\", \"target_currency\": \"usd\"}'}, 'index': 0}]}, response_metadata={'token_usage': {'prompt_tokens': 190, 'total_tokens': 227, 'completion_tokens': 37}, 'model_name': 'mistral-large-latest', 'model': 'mistral-large-latest', 'finish_reason': 'tool_calls'}, id='run--5783a276-b042-48a2-bec4-21802f7e0fee-0', tool_calls=[{'name': 'get_conversion_factor', 'args': {'base_currency': 'inr', 'target_currency': 'usd'}, 'id': '7QE3dzo0X', 'type': 'tool_call'}], usage_metadata={'input_tokens': 190, 'output_tokens': 37, 'total_tokens': 227}),\n",
       " ToolMessage(content='{\"result\": \"success\", \"documentation\": \"https://www.exchangerate-api.com/docs\", \"terms_of_use\": \"https://www.exchangerate-api.com/terms\", \"time_last_update_unix\": 1752796801, \"time_last_update_utc\": \"Fri, 18 Jul 2025 00:00:01 +0000\", \"time_next_update_unix\": 1752883201, \"time_next_update_utc\": \"Sat, 19 Jul 2025 00:00:01 +0000\", \"base_code\": \"INR\", \"target_code\": \"USD\", \"conversion_rate\": 0.01162}', name='get_conversion_factor', tool_call_id='7QE3dzo0X'),\n",
       " '11.620000000000001']"
      ]
     },
     "execution_count": 273,
     "metadata": {},
     "output_type": "execute_result"
    }
   ],
   "source": [
    "messages"
   ]
  },
  {
   "cell_type": "code",
   "execution_count": 274,
   "id": "8edea121",
   "metadata": {},
   "outputs": [
    {
     "data": {
      "text/plain": [
       "AIMessage(content='The conversion rate from INR to USD is 0.01162. Therefore, 100 INR is equivalent to approximately 1.16 USD.', additional_kwargs={}, response_metadata={'token_usage': {'prompt_tokens': 565, 'total_tokens': 603, 'completion_tokens': 38}, 'model_name': 'mistral-large-latest', 'model': 'mistral-large-latest', 'finish_reason': 'stop'}, id='run--2bd34810-746f-4a10-820b-95889a0da2c8-0', usage_metadata={'input_tokens': 565, 'output_tokens': 38, 'total_tokens': 603})"
      ]
     },
     "execution_count": 274,
     "metadata": {},
     "output_type": "execute_result"
    }
   ],
   "source": [
    "llm.invoke(str(messages))"
   ]
  },
  {
   "cell_type": "code",
   "execution_count": null,
   "id": "b0a915ef",
   "metadata": {},
   "outputs": [],
   "source": []
  }
 ],
 "metadata": {
  "kernelspec": {
   "display_name": ".venv",
   "language": "python",
   "name": "python3"
  },
  "language_info": {
   "codemirror_mode": {
    "name": "ipython",
    "version": 3
   },
   "file_extension": ".py",
   "mimetype": "text/x-python",
   "name": "python",
   "nbconvert_exporter": "python",
   "pygments_lexer": "ipython3",
   "version": "3.12.5"
  }
 },
 "nbformat": 4,
 "nbformat_minor": 5
}
