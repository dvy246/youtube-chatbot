{
 "cells": [
  {
   "cell_type": "code",
   "execution_count": 23,
   "id": "f529fd80",
   "metadata": {},
   "outputs": [],
   "source": [
    "from langchain_google_genai import GoogleGenerativeAI\n",
    "from langchain.chat_models import init_chat_model\n",
    "from langchain_core.messages import HumanMessage\n",
    "from langchain_core.tools import tool\n",
    "from dotenv import load_dotenv\n",
    "import requests\n",
    "load_dotenv()\n",
    "import os"
   ]
  },
  {
   "cell_type": "code",
   "execution_count": 4,
   "id": "5ca27287",
   "metadata": {},
   "outputs": [],
   "source": [
    "@tool\n",
    "def multipy(a:int,b:int)->int:\n",
    "    '''multiply a and b'''\n",
    "    return a*b "
   ]
  },
  {
   "cell_type": "code",
   "execution_count": 5,
   "id": "afc92b58",
   "metadata": {},
   "outputs": [
    {
     "data": {
      "text/plain": [
       "225073"
      ]
     },
     "execution_count": 5,
     "metadata": {},
     "output_type": "execute_result"
    }
   ],
   "source": [
    "multipy.invoke({'a':1301,'b':173})"
   ]
  },
  {
   "cell_type": "code",
   "execution_count": 6,
   "id": "f9bfa962",
   "metadata": {},
   "outputs": [
    {
     "data": {
      "text/plain": [
       "{'a': {'title': 'A', 'type': 'integer'},\n",
       " 'b': {'title': 'B', 'type': 'integer'}}"
      ]
     },
     "execution_count": 6,
     "metadata": {},
     "output_type": "execute_result"
    }
   ],
   "source": [
    "multipy.args"
   ]
  },
  {
   "cell_type": "code",
   "execution_count": 7,
   "id": "e4026aa9",
   "metadata": {},
   "outputs": [
    {
     "data": {
      "text/plain": [
       "'multipy'"
      ]
     },
     "execution_count": 7,
     "metadata": {},
     "output_type": "execute_result"
    }
   ],
   "source": [
    "multipy.name"
   ]
  },
  {
   "cell_type": "code",
   "execution_count": 8,
   "id": "cd589de0",
   "metadata": {},
   "outputs": [
    {
     "data": {
      "text/plain": [
       "'multiply a and b'"
      ]
     },
     "execution_count": 8,
     "metadata": {},
     "output_type": "execute_result"
    }
   ],
   "source": [
    "multipy.description"
   ]
  },
  {
   "cell_type": "code",
   "execution_count": 9,
   "id": "eb478058",
   "metadata": {},
   "outputs": [],
   "source": [
    "llm=GoogleGenerativeAI(model='gemini-2.5-flash',api_key=os.getenv('GOOGLE_API'),temperature=0.5)\n",
    "new_tool=llm.bind(tool=multipy)"
   ]
  },
  {
   "cell_type": "code",
   "execution_count": 15,
   "id": "5cf5d80e",
   "metadata": {},
   "outputs": [],
   "source": [
    "result=new_tool.invoke('can u multiply 3 with 30')"
   ]
  },
  {
   "cell_type": "code",
   "execution_count": null,
   "id": "a954bef1",
   "metadata": {},
   "outputs": [
    {
     "data": {
      "text/plain": [
       "ToolMessage(content='90', name='multipy', tool_call_id='1')"
      ]
     },
     "execution_count": 22,
     "metadata": {},
     "output_type": "execute_result"
    }
   ],
   "source": [
    "multipy.invoke({'name':'multiply','args':{'a':3,'b':30},'type':'tool_call','id':'1'})"
   ]
  },
  {
   "cell_type": "code",
   "execution_count": 31,
   "id": "98976f54",
   "metadata": {},
   "outputs": [
    {
     "name": "stdout",
     "output_type": "stream",
     "text": [
      "[HumanMessage(content='can u multiply 3 with 10', additional_kwargs={}, response_metadata={}), 'Yes, 3 multiplied by 10 is 30.']\n"
     ]
    }
   ],
   "source": [
    "query=HumanMessage(content='can u multiply 3 with 10')\n",
    "result=[query]\n",
    "output=new_tool.invoke(result)\n",
    "result.append(output)\n",
    "print(result)"
   ]
  },
  {
   "cell_type": "code",
   "execution_count": 32,
   "id": "9fcf6f9d",
   "metadata": {},
   "outputs": [
    {
     "name": "stdout",
     "output_type": "stream",
     "text": [
      "content='90' name='multipy' tool_call_id='1'\n"
     ]
    }
   ],
   "source": [
    "tool_result=multipy.invoke({'name':'multiply','args':{'a':3,'b':30},'type':'tool_call','id':'1'})\n",
    "print(tool_result)"
   ]
  },
  {
   "cell_type": "code",
   "execution_count": 33,
   "id": "123e0a0c",
   "metadata": {},
   "outputs": [
    {
     "name": "stdout",
     "output_type": "stream",
     "text": [
      "[HumanMessage(content='can u multiply 3 with 10', additional_kwargs={}, response_metadata={}), 'Yes, 3 multiplied by 10 is 30.', ToolMessage(content='90', name='multipy', tool_call_id='1')]\n"
     ]
    }
   ],
   "source": [
    "result.append(tool_result)\n",
    "print(result)"
   ]
  },
  {
   "cell_type": "code",
   "execution_count": null,
   "id": "a94a4262",
   "metadata": {},
   "outputs": [
    {
     "data": {
      "text/plain": [
       "\"That's correct! 3 multiplied by 10 is indeed 30.\""
      ]
     },
     "execution_count": 34,
     "metadata": {},
     "output_type": "execute_result"
    }
   ],
   "source": [
    "new_tool.invoke(result)"
   ]
  },
  {
   "cell_type": "code",
   "execution_count": null,
   "id": "fda3f366",
   "metadata": {},
   "outputs": [],
   "source": []
  }
 ],
 "metadata": {
  "kernelspec": {
   "display_name": ".venv",
   "language": "python",
   "name": "python3"
  },
  "language_info": {
   "codemirror_mode": {
    "name": "ipython",
    "version": 3
   },
   "file_extension": ".py",
   "mimetype": "text/x-python",
   "name": "python",
   "nbconvert_exporter": "python",
   "pygments_lexer": "ipython3",
   "version": "3.12.5"
  }
 },
 "nbformat": 4,
 "nbformat_minor": 5
}
