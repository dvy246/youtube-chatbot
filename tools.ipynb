{
 "cells": [
  {
   "cell_type": "code",
   "execution_count": null,
   "id": "7122f59f",
   "metadata": {},
   "outputs": [],
   "source": [
    "from langchain_community.tools import DuckDuckGoSearchRun,GmailGetMessage\n",
    "from langchain_community.tools import LinkeD"
   ]
  },
  {
   "cell_type": "code",
   "execution_count": 8,
   "id": "13056ea6",
   "metadata": {},
   "outputs": [
    {
     "name": "stderr",
     "output_type": "stream",
     "text": [
      "c:\\Users\\moci ke bawle bacche\\Downloads\\youtube_chatbot langch\\.venv\\Lib\\site-packages\\langchain_community\\utilities\\duckduckgo_search.py:63: RuntimeWarning: This package (`duckduckgo_search`) has been renamed to `ddgs`! Use `pip install ddgs` instead.\n",
      "  with DDGS() as ddgs:\n"
     ]
    },
    {
     "data": {
      "text/plain": [
       "'Dec 13, 2023 · xcloud로 가보면 전과 다르게 옆에 koreacentral 이 뜹니다. 동그라미 친 부분을 체크 및 설정 해주시고 아래 녹색 변경사항 저장을 해주시면 평소 클라우드 및 리모트보다 좋아진걸 체감 가능하실 겁니다. IPv6 이게 레이턴시를 … Feb 12, 2018 · You can certainly say that, effect3. \"Better\" can be used as a verb to replace \"improve\" with the same meaning. But I don\\'t think you have improved the clarity of the sentence … Jun 3, 2011 · \"you\\'d better not to be\" is incorrect, plain and simple, regardless of the Google results you get. I would look over them if I were you as they are probably showing different … Jun 11, 2014 · As a lawyer who strives to use Plain English, I would much rather avoid horrible legalese like \"hereto\" and \"above\" and write instead something like: \"This Agreement comes into … Feb 13, 2023 · Scroll to the bottom of the page when you enter \" you better \" into the search box and you wil find many threads on the \"you better\" versus \"you had (or you\\'d) better\" showing the …'"
      ]
     },
     "execution_count": 8,
     "metadata": {},
     "output_type": "execute_result"
    }
   ],
   "source": [
    "TOOL=DuckDuckGoSearchRun()\n",
    "result=TOOL.invoke('which is better Data science or finance oen answer')\n",
    "result"
   ]
  },
  {
   "cell_type": "code",
   "execution_count": null,
   "id": "4475901d",
   "metadata": {},
   "outputs": [],
   "source": [
    "message=GmailGetMessage()"
   ]
  }
 ],
 "metadata": {
  "kernelspec": {
   "display_name": ".venv",
   "language": "python",
   "name": "python3"
  },
  "language_info": {
   "codemirror_mode": {
    "name": "ipython",
    "version": 3
   },
   "file_extension": ".py",
   "mimetype": "text/x-python",
   "name": "python",
   "nbconvert_exporter": "python",
   "pygments_lexer": "ipython3",
   "version": "3.12.5"
  }
 },
 "nbformat": 4,
 "nbformat_minor": 5
}
