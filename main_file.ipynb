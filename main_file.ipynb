{
 "cells": [
  {
   "cell_type": "code",
   "execution_count": 84,
   "id": "a8312d9d",
   "metadata": {},
   "outputs": [
    {
     "data": {
      "text/plain": [
       "True"
      ]
     },
     "execution_count": 84,
     "metadata": {},
     "output_type": "execute_result"
    }
   ],
   "source": [
    "from youtube_transcript_api import  YouTubeTranscriptApi,YouTubeRequestFailed\n",
    "from langchain.text_splitter import RecursiveCharacterTextSplitter\n",
    "from langchain_community.vectorstores import FAISS\n",
    "from langchain_google_genai import GoogleGenerativeAI,GoogleGenerativeAIEmbeddings\n",
    "from langchain.prompts import PromptTemplate\n",
    "from langchain_core.runnables import RunnableParallel,RunnableLambda,RunnablePassthrough\n",
    "from langchain_core.output_parsers import StrOutputParser\n",
    "import os\n",
    "from dotenv import load_dotenv\n",
    "load_dotenv()"
   ]
  },
  {
   "cell_type": "code",
   "execution_count": 28,
   "id": "af230392",
   "metadata": {},
   "outputs": [],
   "source": [
    "def get_transcript(video_id:list) -> str:\n",
    "    try:\n",
    "        transcript_LIST=YouTubeTranscriptApi.get_transcript(video_id=video_id,languages=['hi','en'])\n",
    "        transcript=\"\".join([item['text'] for item in transcript_LIST])\n",
    "        return transcript\n",
    "    except YouTubeRequestFailed as e:\n",
    "        print(f\"An error occurred: {e}\")"
   ]
  },
  {
   "cell_type": "code",
   "execution_count": 91,
   "id": "83dd6ec8",
   "metadata": {},
   "outputs": [],
   "source": [
    "splitted=get_transcript('3Cv4Vhb8msI')"
   ]
  },
  {
   "cell_type": "code",
   "execution_count": 92,
   "id": "1dd1ef06",
   "metadata": {},
   "outputs": [],
   "source": [
    "text_splitter = RecursiveCharacterTextSplitter(chunk_size=1000, chunk_overlap=200)\n",
    "chunks=text_splitter.create_documents([splitted])"
   ]
  },
  {
   "cell_type": "code",
   "execution_count": 93,
   "id": "295f508d",
   "metadata": {},
   "outputs": [],
   "source": [
    "embeddings= GoogleGenerativeAIEmbeddings(google_api_key=os.getenv('GOOGLE_API'),model=\"models/embedding-001\")\n",
    "vector_store=FAISS.from_documents(embedding=embeddings,documents=chunks)"
   ]
  },
  {
   "cell_type": "code",
   "execution_count": 94,
   "id": "ce1427ef",
   "metadata": {},
   "outputs": [
    {
     "data": {
      "text/plain": [
       "{0: '3ae05e27-d1af-4e48-ba9f-1074bf1f6053',\n",
       " 1: 'da2378ed-5a6a-4e3c-94b7-3dea989fc527',\n",
       " 2: '883855ff-020e-4b99-b6d8-888899d08b2e',\n",
       " 3: '61dd61ed-e50c-45a5-98f7-06a3a9b87e95',\n",
       " 4: '9d1670c2-0488-4b09-80b6-d4030735dd8c',\n",
       " 5: '1aebe88d-b86c-4717-b8e4-2a30d94cfa4e',\n",
       " 6: 'b1be7cb4-023f-4144-98ed-f93f6d603ae0',\n",
       " 7: 'bf73170a-a046-4435-bfe2-d23e37752467',\n",
       " 8: 'a4b44d69-d36e-4bf7-a985-9b35bc41d38e',\n",
       " 9: '7c557650-9132-40c4-a6cd-6f5d12905f6f',\n",
       " 10: '90201a60-0bf9-4e57-90df-9b1cd659028f',\n",
       " 11: 'ff09239f-b552-4f2b-9193-5c345508718b',\n",
       " 12: 'f7d0323a-22be-41df-a8c2-dbf37efb1cd0',\n",
       " 13: '00b5e601-2682-476d-ae6d-2168b3fc4433',\n",
       " 14: '52fdd52a-6896-46f6-8e1d-e885e1a4bcba',\n",
       " 15: 'd0b5b2e0-1131-4444-ba03-e91c20ffc254',\n",
       " 16: 'ab355224-f583-4b60-a57a-f9bd5b1383c6',\n",
       " 17: 'f749f5ff-a6c3-429c-8cd7-11eedacb055d',\n",
       " 18: 'f24da694-3bd6-4907-8d06-b88768448d5b',\n",
       " 19: '573afaa2-b43d-4586-b958-e3132311482a'}"
      ]
     },
     "execution_count": 94,
     "metadata": {},
     "output_type": "execute_result"
    }
   ],
   "source": [
    "vector_store.index_to_docstore_id"
   ]
  },
  {
   "cell_type": "code",
   "execution_count": 95,
   "id": "ffa79337",
   "metadata": {},
   "outputs": [
    {
     "data": {
      "text/plain": [
       "[]"
      ]
     },
     "execution_count": 95,
     "metadata": {},
     "output_type": "execute_result"
    }
   ],
   "source": [
    "vector_store.get_by_ids(['d533610c-3659-410e-b164-192fa0327f3e'])"
   ]
  },
  {
   "cell_type": "code",
   "execution_count": 96,
   "id": "e37409d1",
   "metadata": {},
   "outputs": [],
   "source": [
    "retriever=vector_store.as_retriever(search_type=\"mmr\",search_kwargs={\"k\":2})"
   ]
  },
  {
   "cell_type": "code",
   "execution_count": 97,
   "id": "4cb4406d",
   "metadata": {},
   "outputs": [
    {
     "data": {
      "text/plain": [
       "Document(id='573afaa2-b43d-4586-b958-e3132311482a', metadata={}, page_content='estate in the heart ofAtlanta has so much to offer from anindoor basketball court to a full-on mancave. However, the house was prettydirty. So, if I were to live here, Iwould definitely need a deep clean,specifically from 21 Savage. 21, can youclean the house for me?And then I would consider living there.Two stars.')"
      ]
     },
     "execution_count": 97,
     "metadata": {},
     "output_type": "execute_result"
    }
   ],
   "source": [
    "retriever.invoke('whats deepmind doing' )[1]"
   ]
  },
  {
   "cell_type": "code",
   "execution_count": 98,
   "id": "0030e765",
   "metadata": {},
   "outputs": [],
   "source": [
    "llm=GoogleGenerativeAI(google_api_key=os.getenv('GOOGLE_API'),model='gemini-2.5-flash',temperature=0.2)"
   ]
  },
  {
   "cell_type": "code",
   "execution_count": 99,
   "id": "3d7b1544",
   "metadata": {},
   "outputs": [],
   "source": [
    "prompt = PromptTemplate(\n",
    "    template=\"\"\"\n",
    "      You are a helpful assistant.\n",
    "      Answer ONLY from the provided transcript context.\n",
    "      If the context is insufficient, just say you don't know.\n",
    "\n",
    "      {context}\n",
    "      Question: {question}\n",
    "    \"\"\",\n",
    "    input_variables = ['context', 'question']\n",
    ")\n"
   ]
  },
  {
   "cell_type": "code",
   "execution_count": 101,
   "id": "1e248638",
   "metadata": {},
   "outputs": [],
   "source": [
    "def format_context(response):\n",
    "        contxt='\\n\\n'.join([doc.page_content for doc in response])\n",
    "        return contxt"
   ]
  },
  {
   "cell_type": "code",
   "execution_count": 102,
   "id": "9f624be5",
   "metadata": {},
   "outputs": [],
   "source": [
    "final_pro=prompt.invoke(input={'context':contxt,'question':query})"
   ]
  },
  {
   "cell_type": "code",
   "execution_count": 103,
   "id": "24b9bd05",
   "metadata": {},
   "outputs": [
    {
     "name": "stdout",
     "output_type": "stream",
     "text": [
      "I cannot answer your question as the question itself is missing. Please provide the question you would like me to answer based on the transcript.\n"
     ]
    }
   ],
   "source": [
    "answer=llm.invoke(final_pro)\n",
    "print(answer)"
   ]
  },
  {
   "cell_type": "code",
   "execution_count": 104,
   "id": "0825b7c9",
   "metadata": {},
   "outputs": [],
   "source": [
    "parallel_chain=RunnableParallel(\n",
    "    {'context': retriever| RunnableLambda(format_context),'question':RunnablePassthrough()}\n",
    ")\n",
    "parser=StrOutputParser()"
   ]
  },
  {
   "cell_type": "code",
   "execution_count": 109,
   "id": "7eeb5646",
   "metadata": {},
   "outputs": [
    {
     "data": {
      "text/plain": [
       "'Based on the provided transcript, she says \"hii\" one time:\\n\\n\"Hi, hungry. I\\'m Lexi.\"'"
      ]
     },
     "execution_count": 109,
     "metadata": {},
     "output_type": "execute_result"
    }
   ],
   "source": [
    "main_chain=parallel_chain|prompt|llm|parser\n",
    "main_chain.invoke('how many times she says hii' )\n"
   ]
  },
  {
   "cell_type": "code",
   "execution_count": null,
   "id": "0b4bd858",
   "metadata": {},
   "outputs": [],
   "source": []
  }
 ],
 "metadata": {
  "kernelspec": {
   "display_name": ".venv",
   "language": "python",
   "name": "python3"
  },
  "language_info": {
   "codemirror_mode": {
    "name": "ipython",
    "version": 3
   },
   "file_extension": ".py",
   "mimetype": "text/x-python",
   "name": "python",
   "nbconvert_exporter": "python",
   "pygments_lexer": "ipython3",
   "version": "3.12.5"
  }
 },
 "nbformat": 4,
 "nbformat_minor": 5
}
